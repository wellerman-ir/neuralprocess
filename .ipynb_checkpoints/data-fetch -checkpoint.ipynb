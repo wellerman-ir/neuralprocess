{
 "cells": [
  {
   "cell_type": "code",
   "execution_count": 1,
   "id": "ca7f5fab",
   "metadata": {},
   "outputs": [],
   "source": [
    "import pandas as pd\n",
    "import numpy as np \n",
    "from yahoofinancials import YahooFinancials\n",
    "import matplotlib.pyplot as plt \n",
    "from scipy.interpolate import make_interp_spline"
   ]
  },
  {
   "cell_type": "code",
   "execution_count": 29,
   "id": "1a107ee8",
   "metadata": {},
   "outputs": [
    {
     "name": "stderr",
     "output_type": "stream",
     "text": [
      "C:\\Users\\Jackdaw\\AppData\\Local\\Temp\\ipykernel_22460\\3343993927.py:2: FutureWarning: The behavior of .astype from datetime64[ns] to int32 is deprecated. In a future version, this astype will return exactly the specified dtype instead of int64, and will raise if that conversion overflows.\n",
      "  start = pd.to_datetime(['2007-01-01']).astype(int)[0]//10**9 # convert to unix timestamp.\n",
      "C:\\Users\\Jackdaw\\AppData\\Local\\Temp\\ipykernel_22460\\3343993927.py:3: FutureWarning: The behavior of .astype from datetime64[ns] to int32 is deprecated. In a future version, this astype will return exactly the specified dtype instead of int64, and will raise if that conversion overflows.\n",
      "  end = pd.to_datetime(['2023-06-13']).astype(int)[0]//10**9 # convert to unix timestamp.\n"
     ]
    }
   ],
   "source": [
    "stock_ticker  = \"AAPL\"\n",
    "start = pd.to_datetime(['2007-01-01']).astype(int)[0]//10**9 # convert to unix timestamp.\n",
    "end = pd.to_datetime(['2023-06-13']).astype(int)[0]//10**9 # convert to unix timestamp.\n",
    "interval = \"1d\"\n",
    "url = 'https://query1.finance.yahoo.com/v7/finance/download/' + stock_ticker + '?period1=' + str(start) + '&period2=' + str(end) + '&interval='+interval+'&events=history'\n",
    "df = pd.read_csv(url)"
   ]
  },
  {
   "cell_type": "code",
   "execution_count": 30,
   "id": "abff4e6a",
   "metadata": {},
   "outputs": [
    {
     "data": {
      "text/html": [
       "<div>\n",
       "<style scoped>\n",
       "    .dataframe tbody tr th:only-of-type {\n",
       "        vertical-align: middle;\n",
       "    }\n",
       "\n",
       "    .dataframe tbody tr th {\n",
       "        vertical-align: top;\n",
       "    }\n",
       "\n",
       "    .dataframe thead th {\n",
       "        text-align: right;\n",
       "    }\n",
       "</style>\n",
       "<table border=\"1\" class=\"dataframe\">\n",
       "  <thead>\n",
       "    <tr style=\"text-align: right;\">\n",
       "      <th></th>\n",
       "      <th>Date</th>\n",
       "      <th>Open</th>\n",
       "      <th>High</th>\n",
       "      <th>Low</th>\n",
       "      <th>Close</th>\n",
       "      <th>Adj Close</th>\n",
       "      <th>Volume</th>\n",
       "    </tr>\n",
       "  </thead>\n",
       "  <tbody>\n",
       "    <tr>\n",
       "      <th>4134</th>\n",
       "      <td>2023-06-06</td>\n",
       "      <td>179.970001</td>\n",
       "      <td>180.119995</td>\n",
       "      <td>177.429993</td>\n",
       "      <td>179.210007</td>\n",
       "      <td>179.210007</td>\n",
       "      <td>64848400</td>\n",
       "    </tr>\n",
       "    <tr>\n",
       "      <th>4135</th>\n",
       "      <td>2023-06-07</td>\n",
       "      <td>178.440002</td>\n",
       "      <td>181.210007</td>\n",
       "      <td>177.320007</td>\n",
       "      <td>177.820007</td>\n",
       "      <td>177.820007</td>\n",
       "      <td>61944600</td>\n",
       "    </tr>\n",
       "    <tr>\n",
       "      <th>4136</th>\n",
       "      <td>2023-06-08</td>\n",
       "      <td>177.899994</td>\n",
       "      <td>180.839996</td>\n",
       "      <td>177.460007</td>\n",
       "      <td>180.570007</td>\n",
       "      <td>180.570007</td>\n",
       "      <td>50214900</td>\n",
       "    </tr>\n",
       "    <tr>\n",
       "      <th>4137</th>\n",
       "      <td>2023-06-09</td>\n",
       "      <td>181.500000</td>\n",
       "      <td>182.229996</td>\n",
       "      <td>180.630005</td>\n",
       "      <td>180.960007</td>\n",
       "      <td>180.960007</td>\n",
       "      <td>48870700</td>\n",
       "    </tr>\n",
       "    <tr>\n",
       "      <th>4138</th>\n",
       "      <td>2023-06-12</td>\n",
       "      <td>181.270004</td>\n",
       "      <td>183.889999</td>\n",
       "      <td>180.970001</td>\n",
       "      <td>183.789993</td>\n",
       "      <td>183.789993</td>\n",
       "      <td>54274900</td>\n",
       "    </tr>\n",
       "  </tbody>\n",
       "</table>\n",
       "</div>"
      ],
      "text/plain": [
       "            Date        Open        High         Low       Close   Adj Close  \\\n",
       "4134  2023-06-06  179.970001  180.119995  177.429993  179.210007  179.210007   \n",
       "4135  2023-06-07  178.440002  181.210007  177.320007  177.820007  177.820007   \n",
       "4136  2023-06-08  177.899994  180.839996  177.460007  180.570007  180.570007   \n",
       "4137  2023-06-09  181.500000  182.229996  180.630005  180.960007  180.960007   \n",
       "4138  2023-06-12  181.270004  183.889999  180.970001  183.789993  183.789993   \n",
       "\n",
       "        Volume  \n",
       "4134  64848400  \n",
       "4135  61944600  \n",
       "4136  50214900  \n",
       "4137  48870700  \n",
       "4138  54274900  "
      ]
     },
     "execution_count": 30,
     "metadata": {},
     "output_type": "execute_result"
    }
   ],
   "source": [
    "df.tail()"
   ]
  },
  {
   "cell_type": "markdown",
   "id": "7673aef9",
   "metadata": {},
   "source": [
    "### preprocess data \n"
   ]
  },
  {
   "cell_type": "code",
   "execution_count": 31,
   "id": "f99eb9cd",
   "metadata": {},
   "outputs": [
    {
     "data": {
      "text/html": [
       "<div>\n",
       "<style scoped>\n",
       "    .dataframe tbody tr th:only-of-type {\n",
       "        vertical-align: middle;\n",
       "    }\n",
       "\n",
       "    .dataframe tbody tr th {\n",
       "        vertical-align: top;\n",
       "    }\n",
       "\n",
       "    .dataframe thead th {\n",
       "        text-align: right;\n",
       "    }\n",
       "</style>\n",
       "<table border=\"1\" class=\"dataframe\">\n",
       "  <thead>\n",
       "    <tr style=\"text-align: right;\">\n",
       "      <th></th>\n",
       "      <th>Date</th>\n",
       "      <th>Open</th>\n",
       "      <th>High</th>\n",
       "      <th>Low</th>\n",
       "      <th>Close</th>\n",
       "      <th>Volume</th>\n",
       "    </tr>\n",
       "  </thead>\n",
       "  <tbody>\n",
       "    <tr>\n",
       "      <th>4129</th>\n",
       "      <td>2023-05-30</td>\n",
       "      <td>176.960007</td>\n",
       "      <td>178.990005</td>\n",
       "      <td>176.570007</td>\n",
       "      <td>177.300003</td>\n",
       "      <td>55964400</td>\n",
       "    </tr>\n",
       "    <tr>\n",
       "      <th>4130</th>\n",
       "      <td>2023-05-31</td>\n",
       "      <td>177.330002</td>\n",
       "      <td>179.350006</td>\n",
       "      <td>176.759995</td>\n",
       "      <td>177.250000</td>\n",
       "      <td>99625300</td>\n",
       "    </tr>\n",
       "    <tr>\n",
       "      <th>4131</th>\n",
       "      <td>2023-06-01</td>\n",
       "      <td>177.699997</td>\n",
       "      <td>180.119995</td>\n",
       "      <td>176.929993</td>\n",
       "      <td>180.089996</td>\n",
       "      <td>68901800</td>\n",
       "    </tr>\n",
       "    <tr>\n",
       "      <th>4132</th>\n",
       "      <td>2023-06-02</td>\n",
       "      <td>181.029999</td>\n",
       "      <td>181.779999</td>\n",
       "      <td>179.259995</td>\n",
       "      <td>180.949997</td>\n",
       "      <td>61945900</td>\n",
       "    </tr>\n",
       "    <tr>\n",
       "      <th>4133</th>\n",
       "      <td>2023-06-05</td>\n",
       "      <td>182.630005</td>\n",
       "      <td>184.949997</td>\n",
       "      <td>178.039993</td>\n",
       "      <td>179.580002</td>\n",
       "      <td>121946500</td>\n",
       "    </tr>\n",
       "    <tr>\n",
       "      <th>4134</th>\n",
       "      <td>2023-06-06</td>\n",
       "      <td>179.970001</td>\n",
       "      <td>180.119995</td>\n",
       "      <td>177.429993</td>\n",
       "      <td>179.210007</td>\n",
       "      <td>64848400</td>\n",
       "    </tr>\n",
       "    <tr>\n",
       "      <th>4135</th>\n",
       "      <td>2023-06-07</td>\n",
       "      <td>178.440002</td>\n",
       "      <td>181.210007</td>\n",
       "      <td>177.320007</td>\n",
       "      <td>177.820007</td>\n",
       "      <td>61944600</td>\n",
       "    </tr>\n",
       "    <tr>\n",
       "      <th>4136</th>\n",
       "      <td>2023-06-08</td>\n",
       "      <td>177.899994</td>\n",
       "      <td>180.839996</td>\n",
       "      <td>177.460007</td>\n",
       "      <td>180.570007</td>\n",
       "      <td>50214900</td>\n",
       "    </tr>\n",
       "    <tr>\n",
       "      <th>4137</th>\n",
       "      <td>2023-06-09</td>\n",
       "      <td>181.500000</td>\n",
       "      <td>182.229996</td>\n",
       "      <td>180.630005</td>\n",
       "      <td>180.960007</td>\n",
       "      <td>48870700</td>\n",
       "    </tr>\n",
       "    <tr>\n",
       "      <th>4138</th>\n",
       "      <td>2023-06-12</td>\n",
       "      <td>181.270004</td>\n",
       "      <td>183.889999</td>\n",
       "      <td>180.970001</td>\n",
       "      <td>183.789993</td>\n",
       "      <td>54274900</td>\n",
       "    </tr>\n",
       "  </tbody>\n",
       "</table>\n",
       "</div>"
      ],
      "text/plain": [
       "            Date        Open        High         Low       Close     Volume\n",
       "4129  2023-05-30  176.960007  178.990005  176.570007  177.300003   55964400\n",
       "4130  2023-05-31  177.330002  179.350006  176.759995  177.250000   99625300\n",
       "4131  2023-06-01  177.699997  180.119995  176.929993  180.089996   68901800\n",
       "4132  2023-06-02  181.029999  181.779999  179.259995  180.949997   61945900\n",
       "4133  2023-06-05  182.630005  184.949997  178.039993  179.580002  121946500\n",
       "4134  2023-06-06  179.970001  180.119995  177.429993  179.210007   64848400\n",
       "4135  2023-06-07  178.440002  181.210007  177.320007  177.820007   61944600\n",
       "4136  2023-06-08  177.899994  180.839996  177.460007  180.570007   50214900\n",
       "4137  2023-06-09  181.500000  182.229996  180.630005  180.960007   48870700\n",
       "4138  2023-06-12  181.270004  183.889999  180.970001  183.789993   54274900"
      ]
     },
     "execution_count": 31,
     "metadata": {},
     "output_type": "execute_result"
    }
   ],
   "source": [
    "df = df.drop(columns=['Adj Close'])\n",
    "df.tail(10)"
   ]
  },
  {
   "cell_type": "code",
   "execution_count": 32,
   "id": "911a4b17",
   "metadata": {},
   "outputs": [
    {
     "name": "stdout",
     "output_type": "stream",
     "text": [
      "         Date     Close\n",
      "0  2007-01-03  2.992857\n",
      "1  2007-01-04  3.059286\n",
      "2  2007-01-05  3.037500\n",
      "3  2007-01-08  3.052500\n",
      "4  2007-01-09  3.306071\n",
      "(4139, 2)\n"
     ]
    }
   ],
   "source": [
    "price = df[[\"Date\" , \"Close\"]]\n",
    "print(price.head(5))\n",
    "print(price.shape)\n",
    "price.to_csv(f\"{stock_ticker}_price.csv\")"
   ]
  },
  {
   "cell_type": "code",
   "execution_count": 7,
   "id": "219bc3e5",
   "metadata": {},
   "outputs": [],
   "source": [
    "# We need to remove data where the value of any feature is nan or na or empty.\n",
    "def remove_missing(df) : \n",
    "  remove = []\n",
    "  for i, row in df.iterrows():\n",
    "    if row.isna().values.any() : remove.append(i)\n",
    "  df.drop(remove,axis=0,inplace=True)\n",
    "\n",
    "# remove mismatches e.g. int != str \n",
    "def remove_mismatch(df,exceptions=[]) : \n",
    "  for col in df : \n",
    "    if col in exceptions : continue\n",
    "    df.reset_index(drop=True, inplace=True)\n",
    "    s = [False]*len(df[col])\n",
    "    for i,cell in enumerate(df[col]) : \n",
    "      try : n = int(cell)\n",
    "      except : s[i] = True\n",
    "    t = s.count(True)\n",
    "    f = s.count(False)\n",
    "    st = False\n",
    "    if(t>f) : st = True\n",
    "    remove = [i for i in range(len(df[col])) if s[i]!=st]\n",
    "    df.drop(remove,axis=0,inplace=True)\n",
    "\n",
    "    \n",
    "# convert str to number     \n",
    "def str_to_num(df) : \n",
    "  for col in df : \n",
    "    try : df[col] = pd.to_numeric(df[col])\n",
    "    except : pass\n",
    "\n",
    "    \n",
    "def clean(df,exceptions_mismatch=[]) : \n",
    "  remove_missing(df) \n",
    "#   remove_mismatch(df,exceptions=exceptions_mismatch)\n",
    "#   str_to_num(df)\n",
    "  clean(df,exceptions_mismatch=['Model'])"
   ]
  },
  {
   "cell_type": "code",
   "execution_count": 33,
   "id": "4962a004",
   "metadata": {},
   "outputs": [],
   "source": [
    "y = price[\"Close\"]\n",
    "x = np.linspace(0 , len(y) , len(y))\n",
    "length_scale = 5\n",
    "X_Y_Spline = make_interp_spline(x, y)\n",
    " \n",
    "# over a specified interval.\n",
    "X_ = np.linspace(x.min(), x.max(), length_scale*len(y))\n",
    "Y_ = X_Y_Spline(X_)"
   ]
  },
  {
   "cell_type": "code",
   "execution_count": 48,
   "id": "272dc5e3",
   "metadata": {},
   "outputs": [
    {
     "name": "stderr",
     "output_type": "stream",
     "text": [
      "C:\\Users\\Jackdaw\\AppData\\Local\\Temp\\ipykernel_22460\\2001631879.py:12: UserWarning: Matplotlib is currently using module://matplotlib_inline.backend_inline, which is a non-GUI backend, so cannot show the figure.\n",
      "  fig.show()\n"
     ]
    },
    {
     "data": {
      "image/png": "[encoded data removed]",
      "text/plain": [
       "<Figure size 1000x400 with 1 Axes>"
      ]
     },
     "metadata": {},
     "output_type": "display_data"
    }
   ],
   "source": [
    "fig , ax = plt.subplots(1,1 , figsize=(10,4))\n",
    "\n",
    "ax.scatter(x[-30:] ,y[-30:] , color=\"olivedrab\"  , linewidth=2)\n",
    "ax.plot(X_[-30*length_scale:] ,Y_[-30*length_scale:] , color=\"royalblue\" )\n",
    "\n",
    "\n",
    "# ax.set_xticks([0,500 , 1000] )\n",
    "# ax.set_xticklabels([0,500,1000] , rotation=90 )\n",
    "ax.set_xlabel('date')\n",
    "ax.set_ylabel('close price')\n",
    "ax.set_title(f\"close price of {stock_ticker} stock\")\n",
    "fig.show()"
   ]
  },
  {
   "cell_type": "code",
   "execution_count": null,
   "id": "5fc4bc9b",
   "metadata": {},
   "outputs": [],
   "source": []
  },
  {
   "cell_type": "code",
   "execution_count": null,
   "id": "09e7cf7f",
   "metadata": {},
   "outputs": [],
   "source": []
  },
  {
   "cell_type": "code",
   "execution_count": null,
   "id": "8d29507e",
   "metadata": {},
   "outputs": [],
   "source": []
  }
 ],
 "metadata": {
  "kernelspec": {
   "display_name": "Python 3 (ipykernel)",
   "language": "python",
   "name": "python3"
  },
  "language_info": {
   "codemirror_mode": {
    "name": "ipython",
    "version": 3
   },
   "file_extension": ".py",
   "mimetype": "text/x-python",
   "name": "python",
   "nbconvert_exporter": "python",
   "pygments_lexer": "ipython3",
   "version": "3.11.2"
  }
 },
 "nbformat": 4,
 "nbformat_minor": 5
}
