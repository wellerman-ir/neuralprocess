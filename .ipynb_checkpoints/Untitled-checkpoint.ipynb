{
 "cells": [
  {
   "cell_type": "code",
   "execution_count": 1,
   "id": "bfadabb3",
   "metadata": {},
   "outputs": [
    {
     "name": "stderr",
     "output_type": "stream",
     "text": [
      "C:\\Users\\Jackdaw\\AppData\\Local\\Programs\\Python\\Python311\\Lib\\site-packages\\tqdm\\auto.py:21: TqdmWarning: IProgress not found. Please update jupyter and ipywidgets. See https://ipywidgets.readthedocs.io/en/stable/user_install.html\n",
      "  from .autonotebook import tqdm as notebook_tqdm\n"
     ]
    },
    {
     "data": {
      "text/plain": [
       "<torch._C.Generator at 0x2428b96caf0>"
      ]
     },
     "execution_count": 1,
     "metadata": {},
     "output_type": "execute_result"
    }
   ],
   "source": [
    "import torch\n",
    "import torch.nn as nn\n",
    "import torch.optim as optim\n",
    "from torch.distributions import Normal\n",
    "import pandas as pd\n",
    "from torch.distributions.multivariate_normal import MultivariateNormal\n",
    "import random \n",
    "import matplotlib.pyplot as plt\n",
    "import numpy as np \n",
    "from sklearn.gaussian_process.kernels import RBF\n",
    "from scipy.stats import multivariate_normal\n",
    "import math\n",
    "import gpytorch \n",
    "import numpy as geek\n",
    "\n",
    "\n",
    "# set fata types for default\n",
    "torch.set_default_dtype(torch.float64)\n",
    "# Set random seed for reproducibility\n",
    "torch.manual_seed(42)"
   ]
  },
  {
   "cell_type": "code",
   "execution_count": 2,
   "id": "844b226e",
   "metadata": {},
   "outputs": [],
   "source": [
    "# Generate synthesis GP data for training and testing\n",
    "class generate_GP_data:\n",
    "    def __init__(self , sigma_scale , length_scale , L , U , num_context , num_target , upsample=10):\n",
    "        \n",
    "        self.n_func = 1\n",
    "        self.L = L\n",
    "        self.U = U\n",
    "        self.sigma_scale = sigma_scale\n",
    "        self.upsample = upsample \n",
    "        self.length_scale = length_scale\n",
    "        self.num_context = num_context\n",
    "        self.num_target = num_target\n",
    "        self.n = self.upsample*(self.U-self.L)\n",
    "        self.kernel = self.sigma_scale* RBF(self.length_scale)\n",
    "        self.X = np.linspace(self.L, self.U, self.n).reshape(-1, 1)\n",
    "        self.K = self.kernel(self.X)\n",
    "\n",
    "\n",
    "        # parametize a multivariate Gaussian with zero mean and K as the covariance matrix\n",
    "        # rvs : random variable sampling : Generate random samples from a multivariate normal.\n",
    "        \n",
    "        \n",
    "        ##########################   dimension of mean = cov  !!!!! \n",
    "        self.ys = multivariate_normal.rvs(mean = np.zeros(self.n), \n",
    "                                     cov = self.K, \n",
    "                                     size = self.n_func)\n",
    "        self.xs = np.arange(self.L , self.U , 1/self.upsample)\n",
    "        \n",
    "        self.context_x = random.sample(range(self.L , self.U-self.num_target), self.num_context)        \n",
    "        self.context_y = self.ys[[(i-self.L)*self.upsample  for i in self.context_x]]\n",
    "#         self.target_x = self.xs[-self.num_target*self.upsample:] \n",
    "#         self.target_y = self.ys[-self.num_target*self.upsample:] \n",
    "        \n",
    "        self.target_x = self.xs\n",
    "        self.target_y = self.ys\n",
    "        \n",
    "        self.fig , self.ax = plt.subplots(1,1 , figsize=(10,4))\n",
    "        colors=[\"olivedrab\" , \"red\" , \"green\" , \"steelblue\" , \"orange\" , \"black\" , \"darkkhaki\"]\n",
    "        self.ax.scatter(self.context_x , self.context_y)\n",
    "#         plot train zone \n",
    "        self.ax.plot(self.xs[:-self.num_target*self.upsample] , self.ys[:-self.num_target*self.upsample] , color=\"olivedrab\")\n",
    "#         plot target zone \n",
    "        self.ax.plot(self.xs[-self.num_target*self.upsample:] , self.ys[-self.num_target*self.upsample:] , color=\"red\")\n",
    "#         self.ax.plot(self.target_x, self.target_y , color=\"red\")\n",
    "        self.ax.set_xticks(np.arange(self.L, self.U, 1))\n",
    "        self.ax.set_title(\"7 samples from a Gaussian process prior\")\n",
    "\n",
    "\n",
    "    def give_data(self):\n",
    "        return ( torch.unsqueeze(torch.tensor(self.context_x),1) , \n",
    "               torch.unsqueeze(torch.tensor(self.context_y) ,1) , \n",
    "               torch.unsqueeze(torch.tensor(self.target_x) ,1) ,\n",
    "               torch.unsqueeze(torch.tensor(self.target_y),1) ,\n",
    "               torch.unsqueeze(torch.tensor(self.ys),1) ,\n",
    "               torch.unsqueeze(torch.tensor(self.xs),1))\n"
   ]
  },
  {
   "cell_type": "code",
   "execution_count": 3,
   "id": "5dff4d7e",
   "metadata": {},
   "outputs": [
    {
     "data": {
      "text/plain": [
       "torch.Size([8, 1])"
      ]
     },
     "execution_count": 3,
     "metadata": {},
     "output_type": "execute_result"
    }
   ],
   "source": [
    "GP = generate_GP_data( 1 ,0.4, 30 , 50 ,8 , 5)\n",
    "x,y,xx,yy ,ys, xs= GP.give_data()\n",
    "x.shape "
   ]
  },
  {
   "cell_type": "code",
   "execution_count": null,
   "id": "2de93dd2",
   "metadata": {},
   "outputs": [],
   "source": []
  }
 ],
 "metadata": {
  "kernelspec": {
   "display_name": "Python 3 (ipykernel)",
   "language": "python",
   "name": "python3"
  },
  "language_info": {
   "codemirror_mode": {
    "name": "ipython",
    "version": 3
   },
   "file_extension": ".py",
   "mimetype": "text/x-python",
   "name": "python",
   "nbconvert_exporter": "python",
   "pygments_lexer": "ipython3",
   "version": "3.11.2"
  }
 },
 "nbformat": 4,
 "nbformat_minor": 5
}
